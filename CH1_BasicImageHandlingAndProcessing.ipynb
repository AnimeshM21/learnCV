{
 "cells": [
  {
   "cell_type": "code",
   "execution_count": null,
   "id": "ee880c6a-50d6-49ce-bb8c-bc0135ed6d8a",
   "metadata": {},
   "outputs": [],
   "source": [
    "import nltk\n"
   ]
  },
  {
   "cell_type": "code",
   "execution_count": null,
   "id": "d39a12be-05c3-4ba7-b378-1e9d01bf99c3",
   "metadata": {},
   "outputs": [],
   "source": [
    "from nltk.book import *"
   ]
  },
  {
   "cell_type": "code",
   "execution_count": null,
   "id": "bb1245f1-dc2d-48ad-8a3f-d81625f4d058",
   "metadata": {},
   "outputs": [],
   "source": [
    "from PIL import Image\n",
    "\n",
    "def mypic():\n",
    "\n",
    "    pil_im = Image.open('/Users/animeshmishra/Desktop/cyber-security.jpg')\n",
    "    # pil_im.show()\n",
    "    return pil_im\n",
    "mypic()"
   ]
  },
  {
   "cell_type": "code",
   "execution_count": null,
   "id": "6fb7ed58-76af-4884-b16c-a640f01166dc",
   "metadata": {},
   "outputs": [],
   "source": [
    "# Changing file types\n",
    "from PIL import Image\n",
    "import os\n",
    "\n",
    "filelist = ['/Users/animeshmishra/Desktop/example.png']\n",
    "\n",
    "for infile in filelist:\n",
    "    outfile = os.path.splitext(infile)[0] + \".jpg\"\n",
    "    \n",
    "    if infile != outfile:\n",
    "        try:\n",
    "            img = Image.open(infile)\n",
    "            img = img.convert('RGB')\n",
    "            img.save(outfile, 'JPEG')\n",
    "            print(f\"Successfully converted {infile} to {outfile}\")\n",
    "        except IOError as e:\n",
    "            print(f\"Cannot convert {infile}: {e}\")\n"
   ]
  },
  {
   "cell_type": "code",
   "execution_count": null,
   "id": "aa45e5b0-4210-4713-90a4-2bc2402214af",
   "metadata": {},
   "outputs": [],
   "source": [
    "from PIL import Image\n",
    "pil_im = Image.open('/Users/animeshmishra/Desktop/cyber-security.jpg')\n",
    "# The thumbnail method takes a tuple with the new size and converts the image to a thumbnail image\n",
    "pil_im.thumbnail((128,128))\n",
    "pil_im.show()"
   ]
  },
  {
   "cell_type": "code",
   "execution_count": null,
   "id": "390b57ca-4a4f-4237-abbb-05c1ebe676ad",
   "metadata": {},
   "outputs": [],
   "source": [
    "from PIL import Image\n",
    "\n",
    "pil_im = Image.open('/Users/animeshmishra/Desktop/cyber-security.jpg')\n",
    "\n",
    "# the crop method crops a region from the image\n",
    "box = (100,100,400,400)\n",
    "region = pil_im.crop(box)\n",
    "pil_im.show()\n",
    "region.show()\n",
    "\n",
    "# the paste method can help put the cropped region back in place\n",
    "\n"
   ]
  },
  {
   "cell_type": "code",
   "execution_count": null,
   "id": "b3bfa33e-17eb-473f-876c-37b565a7ccec",
   "metadata": {},
   "outputs": [],
   "source": [
    "from PIL import Image\n",
    "\n",
    "pil_im = Image.open('/Users/animeshmishra/Desktop/cyber-security.jpg')\n",
    "\n",
    "# To resize pass a tuple with the new size in the resize function\n",
    "out  = pil_im.resize((128,128))\n",
    "\n",
    "# the rotate method we pass the angle to be rotated in the clockwise direction\n",
    "new  = pil_im.rotate(45)\n",
    "pil_im.show()\n",
    "out.show()\n",
    "new.show()"
   ]
  },
  {
   "cell_type": "code",
   "execution_count": null,
   "id": "8a5dacc6-3404-4de1-87eb-24ea1004ce6e",
   "metadata": {},
   "outputs": [],
   "source": [
    "from PIL import Image\n",
    "from pylab import *\n",
    "\n",
    "#read image to array\n",
    "im = array(Image.open('/Users/animeshmishra/Desktop/example.jpg'))\n",
    "\n",
    "# plot the image\n",
    "imshow(im)\n",
    "\n",
    "# some points\n",
    "x= [100,100,400,400]\n",
    "y = [200,590,200,500]\n",
    "\n",
    "# plot the points with markers\n",
    "plot(x,y,'b')\n",
    "\n",
    "# line plot connecting the first two points\n",
    "plot(x[:3],y[:3],'r')\n",
    "\n",
    "# add title and show the plot\n",
    "title(\"PLOTTING: The Empire State Building\")\n",
    "# Gives a prettier plot\n",
    "axis('off')\n",
    "# Call the show() only once per script as it open the GUI and acts much like the return statement\n",
    "show()"
   ]
  },
  {
   "cell_type": "code",
   "execution_count": null,
   "id": "548414e1-b1ce-42b5-b1a4-3dd249d7f717",
   "metadata": {},
   "outputs": [],
   "source": []
  },
  {
   "cell_type": "code",
   "execution_count": null,
   "id": "04bfe42c-fa53-4a71-9bc0-e1b4393fd3f9",
   "metadata": {},
   "outputs": [],
   "source": []
  },
  {
   "cell_type": "code",
   "execution_count": null,
   "id": "e0b72a37-9bb8-402a-b343-d7d36e57fa8d",
   "metadata": {},
   "outputs": [],
   "source": []
  },
  {
   "cell_type": "code",
   "execution_count": null,
   "id": "5c7b599f-1987-4a66-a92a-af7086a55eaa",
   "metadata": {},
   "outputs": [],
   "source": []
  },
  {
   "cell_type": "code",
   "execution_count": null,
   "id": "734fe2ac-7f65-42e0-8587-920938f1ae4c",
   "metadata": {},
   "outputs": [],
   "source": []
  },
  {
   "cell_type": "code",
   "execution_count": null,
   "id": "31c6f763-a220-4b4d-b9e8-ca6394611412",
   "metadata": {},
   "outputs": [],
   "source": []
  },
  {
   "cell_type": "code",
   "execution_count": null,
   "id": "e893b280-e1f3-433d-aa67-24f0a387b7f0",
   "metadata": {},
   "outputs": [],
   "source": [
    "\n"
   ]
  }
 ],
 "metadata": {
  "kernelspec": {
   "display_name": "Python 3 (ipykernel)",
   "language": "python",
   "name": "python3"
  },
  "language_info": {
   "codemirror_mode": {
    "name": "ipython",
    "version": 3
   },
   "file_extension": ".py",
   "mimetype": "text/x-python",
   "name": "python",
   "nbconvert_exporter": "python",
   "pygments_lexer": "ipython3",
   "version": "3.11.7"
  }
 },
 "nbformat": 4,
 "nbformat_minor": 5
}
